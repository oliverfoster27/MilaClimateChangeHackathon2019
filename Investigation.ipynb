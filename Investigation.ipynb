{
 "cells": [
  {
   "cell_type": "code",
   "execution_count": 1,
   "metadata": {},
   "outputs": [],
   "source": [
    "import numpy as np\n",
    "import pandas as pd\n",
    "from sklearn.model_selection import train_test_split\n",
    "from sklearn.linear_model import LinearRegression\n",
    "import seaborn as sns"
   ]
  },
  {
   "cell_type": "code",
   "execution_count": 2,
   "metadata": {},
   "outputs": [],
   "source": [
    "df = pd.read_csv(r\"C:\\Users\\olive\\Documents\\GitHub\\MilaClimateChangeHackathon2019\\data\\Final_Dataset.csv\", index_col=0)"
   ]
  },
  {
   "cell_type": "code",
   "execution_count": 3,
   "metadata": {},
   "outputs": [],
   "source": [
    "possible_targets = ['Number of Incidents', 'Implied vehicules', 'Serious injury',\n",
    "       'Light injury', 'Total victims', 'Trucks and car', 'Heavy tractor',\n",
    "       'Tool equipment', 'Bus', 'Bicycle', 'Moped', 'Motorcycle',\n",
    "       'Emergency vehicule', 'Snowmobile', 'VHR', 'Other types',\n",
    "       'Non-Precise vehicule', 'Pedestrian death', 'Pedestrian injury',\n",
    "       'Pedestrian victims', 'Motorcycle death', 'Motorcycle injuries',\n",
    "       'Motorcycle victims', 'Bicycle death', 'Bicycle injury',\n",
    "       'Bicycle victims', 'Severity: Inferior damages',\n",
    "       'Severity: Material damages', 'Severity: Serious injury',\n",
    "       'Severity: Light injury', 'Severity: Death']"
   ]
  },
  {
   "cell_type": "code",
   "execution_count": 4,
   "metadata": {},
   "outputs": [],
   "source": [
    "target = 'Number of Incidents'\n",
    "targets = [*possible_targets]\n",
    "targets.remove(target)"
   ]
  },
  {
   "cell_type": "code",
   "execution_count": 5,
   "metadata": {},
   "outputs": [],
   "source": [
    "X_train, X_test, y_train, y_test = train_test_split(df.drop(possible_targets, axis=1), df[target], test_size=0.33)"
   ]
  },
  {
   "cell_type": "code",
   "execution_count": 6,
   "metadata": {},
   "outputs": [],
   "source": [
    "model = LinearRegression()"
   ]
  },
  {
   "cell_type": "code",
   "execution_count": 7,
   "metadata": {},
   "outputs": [
    {
     "data": {
      "text/plain": [
       "LinearRegression(copy_X=True, fit_intercept=True, n_jobs=None,\n",
       "         normalize=False)"
      ]
     },
     "execution_count": 7,
     "metadata": {},
     "output_type": "execute_result"
    }
   ],
   "source": [
    "model.fit(X_train, y_train)"
   ]
  },
  {
   "cell_type": "code",
   "execution_count": 8,
   "metadata": {},
   "outputs": [],
   "source": [
    "y_pred = model.predict(X_test)"
   ]
  },
  {
   "cell_type": "code",
   "execution_count": 9,
   "metadata": {},
   "outputs": [],
   "source": [
    "from sklearn.metrics import mean_absolute_error"
   ]
  },
  {
   "cell_type": "code",
   "execution_count": 10,
   "metadata": {},
   "outputs": [
    {
     "data": {
      "text/plain": [
       "2.185040988401394"
      ]
     },
     "execution_count": 10,
     "metadata": {},
     "output_type": "execute_result"
    }
   ],
   "source": [
    "mean_absolute_error(y_test, y_pred)"
   ]
  },
  {
   "cell_type": "code",
   "execution_count": 11,
   "metadata": {},
   "outputs": [
    {
     "name": "stdout",
     "output_type": "stream",
     "text": [
      "5.0 \t 11.2449951171875\n",
      "13.0 \t 16.819580078125\n",
      "17.0 \t 17.0416259765625\n",
      "0.0 \t 0.3411865234375\n",
      "3.0 \t 3.115478515625\n",
      "7.0 \t 14.037109375\n",
      "3.0 \t 4.90966796875\n",
      "0.0 \t 0.43212890625\n",
      "2.0 \t 0.8575439453125\n",
      "0.0 \t -0.5045166015625\n",
      "0.0 \t -0.004150390625\n",
      "7.0 \t 4.946533203125\n",
      "22.0 \t 16.39794921875\n",
      "5.0 \t 3.7998046875\n",
      "21.0 \t 16.9688720703125\n",
      "13.0 \t 13.37060546875\n",
      "13.0 \t 14.8182373046875\n",
      "3.0 \t 1.7607421875\n",
      "0.0 \t 3.22021484375\n",
      "2.0 \t 1.7816162109375\n"
     ]
    }
   ],
   "source": [
    "for i in range(20):\n",
    "    print(y_test.iloc[i], '\\t', y_pred[i])"
   ]
  },
  {
   "cell_type": "code",
   "execution_count": 12,
   "metadata": {},
   "outputs": [],
   "source": [
    "res = dict()\n",
    "for i in range(len(model.coef_)):\n",
    "    res[X_train.columns[i]] = model.coef_[i]"
   ]
  },
  {
   "cell_type": "code",
   "execution_count": 13,
   "metadata": {},
   "outputs": [
    {
     "data": {
      "text/plain": [
       "{'pr_CNRM-CM5_historical_rcp26_(kg m-2 d-1)': 0.0060112828156903535,\n",
       " 'pr_CNRM-CM5_historical_rcp45_(kg m-2 d-1)': 0.0013923260543490415,\n",
       " 'pr_CNRM-CM5_historical_rcp85_(kg m-2 d-1)': 0.01449007905479742,\n",
       " 'pr_MIROC-ESM-CHEM_historical_rcp26_(kg m-2 d-1)': -0.0035890107679817187,\n",
       " 'pr_MIROC-ESM-CHEM_historical_rcp45_(kg m-2 d-1)': -0.007945377658263721,\n",
       " 'pr_MIROC-ESM-CHEM_historical_rcp85_(kg m-2 d-1)': 0.017445889647952382,\n",
       " 'pr_MIROC-ESM_historical_rcp26_(kg m-2 d-1)': -0.005365861121054361,\n",
       " 'pr_MIROC-ESM_historical_rcp45_(kg m-2 d-1)': -0.00040633554650587264,\n",
       " 'pr_MIROC-ESM_historical_rcp85_(kg m-2 d-1)': -0.001254820940774577,\n",
       " 'pr_MRI-CGCM3_historical_rcp26_(kg m-2 d-1)': -0.003863792273869997,\n",
       " 'pr_MRI-CGCM3_historical_rcp45_(kg m-2 d-1)': 0.007224814439930484,\n",
       " 'pr_MRI-CGCM3_historical_rcp85_(kg m-2 d-1)': 0.00721915473056905,\n",
       " 'GRID_45.458333155|-73.625002695': 556749688317.6538,\n",
       " 'GRID_45.458333155|-73.70833602500002': 556749688307.485,\n",
       " 'GRID_45.458333155|-73.791669355': 556749688307.2963,\n",
       " 'GRID_45.458333155|-73.875002685': 556749688306.4789,\n",
       " 'GRID_45.458333155|-73.958336015': 556749688304.8217,\n",
       " 'GRID_45.541666485|-73.541669365': 556749688320.5568,\n",
       " 'GRID_45.541666485|-73.625002695': 556749688320.9225,\n",
       " 'GRID_45.541666485|-73.70833602500002': 556749688308.254,\n",
       " 'GRID_45.541666485|-73.791669355': 556749688305.1555,\n",
       " 'GRID_45.541666485|-73.875002685': 556749688304.6862,\n",
       " 'GRID_45.624999815|-73.541669365': 556749688310.7672,\n",
       " 'GRID_45.624999815|-73.625002695': 556749688309.4713,\n",
       " 'GRID_45.624999815|-73.70833602500002': 438.23577880859375,\n",
       " 'GRID_45.624999815|-73.791669355': 61.841949462890625,\n",
       " 'WEEKDAY_1': 0.40912704987130194,\n",
       " 'WEEKDAY_2': 0.4497599934546605,\n",
       " 'WEEKDAY_3': 0.9023401126712136,\n",
       " 'WEEKDAY_4': 1.0006933516205518,\n",
       " 'WEEKDAY_5': -0.3951799217755437,\n",
       " 'WEEKDAY_6': -1.1395959575548151,\n",
       " 'MONTH_2': -0.09763856739773245,\n",
       " 'MONTH_3': -0.9001308617915438,\n",
       " 'MONTH_4': -1.3819569543955694,\n",
       " 'MONTH_5': -0.8084752098628818,\n",
       " 'MONTH_6': -0.511238362104502,\n",
       " 'MONTH_7': -1.1009941304137425,\n",
       " 'MONTH_8': -1.157602622194049,\n",
       " 'MONTH_9': -0.5075340275869729,\n",
       " 'MONTH_10': -0.5924857299088016,\n",
       " 'MONTH_11': -0.666419837747194,\n",
       " 'MONTH_12': -0.38612235420093993}"
      ]
     },
     "execution_count": 13,
     "metadata": {},
     "output_type": "execute_result"
    }
   ],
   "source": [
    "res"
   ]
  },
  {
   "cell_type": "code",
   "execution_count": 16,
   "metadata": {},
   "outputs": [],
   "source": [
    "import matplotlib.pyplot as plt"
   ]
  },
  {
   "cell_type": "code",
   "execution_count": 37,
   "metadata": {},
   "outputs": [],
   "source": [
    "gds = [x for x in X_train.columns if 'GRID_' in x]"
   ]
  },
  {
   "cell_type": "code",
   "execution_count": 50,
   "metadata": {},
   "outputs": [
    {
     "name": "stdout",
     "output_type": "stream",
     "text": [
      "GRID_45.458333155|-73.625002695\n",
      "4768.734968095809 4776.6427233339755\n",
      "0.1658250100094041\n",
      "GRID_45.458333155|-73.70833602500002\n",
      "4768.734968095809 4776.6427233339755\n",
      "0.1658250100094041\n",
      "GRID_45.458333155|-73.791669355\n",
      "4768.734968095809 4776.6427233339755\n",
      "0.1658250100094041\n",
      "GRID_45.458333155|-73.875002685\n",
      "4768.734968095809 4776.6427233339755\n",
      "0.1658250100094041\n",
      "GRID_45.458333155|-73.958336015\n",
      "4768.734968095809 4776.6427233339755\n",
      "0.1658250100094041\n",
      "GRID_45.541666485|-73.541669365\n",
      "4768.734968095809 4776.6427233339755\n",
      "0.1658250100094041\n",
      "GRID_45.541666485|-73.625002695\n",
      "4768.734968095809 4776.6427233339755\n",
      "0.1658250100094041\n",
      "GRID_45.541666485|-73.70833602500002\n",
      "4768.734968095809 4776.6427233339755\n",
      "0.1658250100094041\n",
      "GRID_45.541666485|-73.791669355\n",
      "4768.734968095809 4776.6427233339755\n",
      "0.1658250100094041\n",
      "GRID_45.541666485|-73.875002685\n",
      "4768.734968095809 4776.6427233339755\n",
      "0.1658250100094041\n",
      "GRID_45.624999815|-73.541669365\n",
      "4768.734968095809 4776.6427233339755\n",
      "0.1658250100094041\n",
      "GRID_45.624999815|-73.625002695\n",
      "4768.734968095809 4776.6427233339755\n",
      "0.1658250100094041\n",
      "GRID_45.624999815|-73.70833602500002\n",
      "4768.734968095809 4776.6427233339755\n",
      "0.1658250100094041\n",
      "GRID_45.624999815|-73.791669355\n",
      "4768.734968095809 4776.6427233339755\n",
      "0.1658250100094041\n"
     ]
    },
    {
     "data": {
      "text/plain": [
       "[{'Grid': 'GRID_45.458333155|-73.625002695',\n",
       "  'Start': 4768.734968095809,\n",
       "  'End': 4776.6427233339755,\n",
       "  'Percent Change': 0.1658250100094041},\n",
       " {'Grid': 'GRID_45.458333155|-73.70833602500002',\n",
       "  'Start': 4768.734968095809,\n",
       "  'End': 4776.6427233339755,\n",
       "  'Percent Change': 0.1658250100094041},\n",
       " {'Grid': 'GRID_45.458333155|-73.791669355',\n",
       "  'Start': 4768.734968095809,\n",
       "  'End': 4776.6427233339755,\n",
       "  'Percent Change': 0.1658250100094041},\n",
       " {'Grid': 'GRID_45.458333155|-73.875002685',\n",
       "  'Start': 4768.734968095809,\n",
       "  'End': 4776.6427233339755,\n",
       "  'Percent Change': 0.1658250100094041},\n",
       " {'Grid': 'GRID_45.458333155|-73.958336015',\n",
       "  'Start': 4768.734968095809,\n",
       "  'End': 4776.6427233339755,\n",
       "  'Percent Change': 0.1658250100094041},\n",
       " {'Grid': 'GRID_45.541666485|-73.541669365',\n",
       "  'Start': 4768.734968095809,\n",
       "  'End': 4776.6427233339755,\n",
       "  'Percent Change': 0.1658250100094041},\n",
       " {'Grid': 'GRID_45.541666485|-73.625002695',\n",
       "  'Start': 4768.734968095809,\n",
       "  'End': 4776.6427233339755,\n",
       "  'Percent Change': 0.1658250100094041},\n",
       " {'Grid': 'GRID_45.541666485|-73.70833602500002',\n",
       "  'Start': 4768.734968095809,\n",
       "  'End': 4776.6427233339755,\n",
       "  'Percent Change': 0.1658250100094041},\n",
       " {'Grid': 'GRID_45.541666485|-73.791669355',\n",
       "  'Start': 4768.734968095809,\n",
       "  'End': 4776.6427233339755,\n",
       "  'Percent Change': 0.1658250100094041},\n",
       " {'Grid': 'GRID_45.541666485|-73.875002685',\n",
       "  'Start': 4768.734968095809,\n",
       "  'End': 4776.6427233339755,\n",
       "  'Percent Change': 0.1658250100094041},\n",
       " {'Grid': 'GRID_45.624999815|-73.541669365',\n",
       "  'Start': 4768.734968095809,\n",
       "  'End': 4776.6427233339755,\n",
       "  'Percent Change': 0.1658250100094041},\n",
       " {'Grid': 'GRID_45.624999815|-73.625002695',\n",
       "  'Start': 4768.734968095809,\n",
       "  'End': 4776.6427233339755,\n",
       "  'Percent Change': 0.1658250100094041},\n",
       " {'Grid': 'GRID_45.624999815|-73.70833602500002',\n",
       "  'Start': 4768.734968095809,\n",
       "  'End': 4776.6427233339755,\n",
       "  'Percent Change': 0.1658250100094041},\n",
       " {'Grid': 'GRID_45.624999815|-73.791669355',\n",
       "  'Start': 4768.734968095809,\n",
       "  'End': 4776.6427233339755,\n",
       "  'Percent Change': 0.1658250100094041}]"
      ]
     },
     "execution_count": 50,
     "metadata": {},
     "output_type": "execute_result"
    },
    {
     "data": {
      "image/png": "[encoded data removed]",
      "text/plain": [
       "<Figure size 432x288 with 1 Axes>"
      ]
     },
     "metadata": {
      "needs_background": "light"
     },
     "output_type": "display_data"
    }
   ],
   "source": [
    "data = []\n",
    "for GRID in gds:\n",
    "\n",
    "    future_data = pd.read_csv(r\"C:\\Users\\olive\\Documents\\GitHub\\MilaClimateChangeHackathon2019\\data\\Future_Dataset_WithDates.csv\", index_col=0, parse_dates=True)\n",
    "\n",
    "    future_data['Forecast'] = 0.0\n",
    "    future_data.loc[future_data[GRID]==1, 'Forecast'] = model.predict(future_data[future_data[GRID]==1].drop(['Forecast'], axis=1))\n",
    "\n",
    "    future_data = future_data.resample(rule='A').sum()\n",
    "\n",
    "    future_data = future_data.reset_index().sort_values('time')\n",
    "    future_data['date_f'] = pd.factorize(future_data['time'])[0] + 1\n",
    "    mapping = dict(zip(future_data['date_f'], future_data['time'].dt.date))\n",
    "\n",
    "    ax = sns.regplot('date_f', 'Forecast', data=future_data)\n",
    "    labels = pd.Series(ax.get_xticks()).map(mapping).fillna('')\n",
    "    ax.set_xticklabels(labels)\n",
    "    ax.set_ylabel('Number of Yearly Accidents')\n",
    "    ax.set_xlabel('Date')\n",
    "    ax.set_title('Forecasted Yearly Accidents in Angus')\n",
    "\n",
    "    start = ax.get_lines()[0].get_ydata()[0]\n",
    "    end = ax.get_lines()[0].get_ydata()[-1]\n",
    "    \n",
    "    data.append({'Grid': GRID, 'Start': start, \n",
    "                 'End': end, 'Percent Change': 100*(end-start)/start})\n",
    "    print(GRID)\n",
    "    print(start, end)\n",
    "    print(100*(end-start)/start)\n",
    "    print('\\n')\n",
    "data"
   ]
  },
  {
   "cell_type": "code",
   "execution_count": 51,
   "metadata": {},
   "outputs": [
    {
     "data": {
      "text/html": [
       "<div>\n",
       "<style scoped>\n",
       "    .dataframe tbody tr th:only-of-type {\n",
       "        vertical-align: middle;\n",
       "    }\n",
       "\n",
       "    .dataframe tbody tr th {\n",
       "        vertical-align: top;\n",
       "    }\n",
       "\n",
       "    .dataframe thead th {\n",
       "        text-align: right;\n",
       "    }\n",
       "</style>\n",
       "<table border=\"1\" class=\"dataframe\">\n",
       "  <thead>\n",
       "    <tr style=\"text-align: right;\">\n",
       "      <th></th>\n",
       "      <th>End</th>\n",
       "      <th>Grid</th>\n",
       "      <th>Percent Change</th>\n",
       "      <th>Start</th>\n",
       "    </tr>\n",
       "  </thead>\n",
       "  <tbody>\n",
       "    <tr>\n",
       "      <th>0</th>\n",
       "      <td>4776.642723</td>\n",
       "      <td>GRID_45.458333155|-73.625002695</td>\n",
       "      <td>0.165825</td>\n",
       "      <td>4768.734968</td>\n",
       "    </tr>\n",
       "    <tr>\n",
       "      <th>1</th>\n",
       "      <td>4776.642723</td>\n",
       "      <td>GRID_45.458333155|-73.70833602500002</td>\n",
       "      <td>0.165825</td>\n",
       "      <td>4768.734968</td>\n",
       "    </tr>\n",
       "    <tr>\n",
       "      <th>2</th>\n",
       "      <td>4776.642723</td>\n",
       "      <td>GRID_45.458333155|-73.791669355</td>\n",
       "      <td>0.165825</td>\n",
       "      <td>4768.734968</td>\n",
       "    </tr>\n",
       "    <tr>\n",
       "      <th>3</th>\n",
       "      <td>4776.642723</td>\n",
       "      <td>GRID_45.458333155|-73.875002685</td>\n",
       "      <td>0.165825</td>\n",
       "      <td>4768.734968</td>\n",
       "    </tr>\n",
       "    <tr>\n",
       "      <th>4</th>\n",
       "      <td>4776.642723</td>\n",
       "      <td>GRID_45.458333155|-73.958336015</td>\n",
       "      <td>0.165825</td>\n",
       "      <td>4768.734968</td>\n",
       "    </tr>\n",
       "    <tr>\n",
       "      <th>5</th>\n",
       "      <td>4776.642723</td>\n",
       "      <td>GRID_45.541666485|-73.541669365</td>\n",
       "      <td>0.165825</td>\n",
       "      <td>4768.734968</td>\n",
       "    </tr>\n",
       "    <tr>\n",
       "      <th>6</th>\n",
       "      <td>4776.642723</td>\n",
       "      <td>GRID_45.541666485|-73.625002695</td>\n",
       "      <td>0.165825</td>\n",
       "      <td>4768.734968</td>\n",
       "    </tr>\n",
       "    <tr>\n",
       "      <th>7</th>\n",
       "      <td>4776.642723</td>\n",
       "      <td>GRID_45.541666485|-73.70833602500002</td>\n",
       "      <td>0.165825</td>\n",
       "      <td>4768.734968</td>\n",
       "    </tr>\n",
       "    <tr>\n",
       "      <th>8</th>\n",
       "      <td>4776.642723</td>\n",
       "      <td>GRID_45.541666485|-73.791669355</td>\n",
       "      <td>0.165825</td>\n",
       "      <td>4768.734968</td>\n",
       "    </tr>\n",
       "    <tr>\n",
       "      <th>9</th>\n",
       "      <td>4776.642723</td>\n",
       "      <td>GRID_45.541666485|-73.875002685</td>\n",
       "      <td>0.165825</td>\n",
       "      <td>4768.734968</td>\n",
       "    </tr>\n",
       "    <tr>\n",
       "      <th>10</th>\n",
       "      <td>4776.642723</td>\n",
       "      <td>GRID_45.624999815|-73.541669365</td>\n",
       "      <td>0.165825</td>\n",
       "      <td>4768.734968</td>\n",
       "    </tr>\n",
       "    <tr>\n",
       "      <th>11</th>\n",
       "      <td>4776.642723</td>\n",
       "      <td>GRID_45.624999815|-73.625002695</td>\n",
       "      <td>0.165825</td>\n",
       "      <td>4768.734968</td>\n",
       "    </tr>\n",
       "    <tr>\n",
       "      <th>12</th>\n",
       "      <td>4776.642723</td>\n",
       "      <td>GRID_45.624999815|-73.70833602500002</td>\n",
       "      <td>0.165825</td>\n",
       "      <td>4768.734968</td>\n",
       "    </tr>\n",
       "    <tr>\n",
       "      <th>13</th>\n",
       "      <td>4776.642723</td>\n",
       "      <td>GRID_45.624999815|-73.791669355</td>\n",
       "      <td>0.165825</td>\n",
       "      <td>4768.734968</td>\n",
       "    </tr>\n",
       "  </tbody>\n",
       "</table>\n",
       "</div>"
      ],
      "text/plain": [
       "            End                                  Grid  Percent Change  \\\n",
       "0   4776.642723       GRID_45.458333155|-73.625002695        0.165825   \n",
       "1   4776.642723  GRID_45.458333155|-73.70833602500002        0.165825   \n",
       "2   4776.642723       GRID_45.458333155|-73.791669355        0.165825   \n",
       "3   4776.642723       GRID_45.458333155|-73.875002685        0.165825   \n",
       "4   4776.642723       GRID_45.458333155|-73.958336015        0.165825   \n",
       "5   4776.642723       GRID_45.541666485|-73.541669365        0.165825   \n",
       "6   4776.642723       GRID_45.541666485|-73.625002695        0.165825   \n",
       "7   4776.642723  GRID_45.541666485|-73.70833602500002        0.165825   \n",
       "8   4776.642723       GRID_45.541666485|-73.791669355        0.165825   \n",
       "9   4776.642723       GRID_45.541666485|-73.875002685        0.165825   \n",
       "10  4776.642723       GRID_45.624999815|-73.541669365        0.165825   \n",
       "11  4776.642723       GRID_45.624999815|-73.625002695        0.165825   \n",
       "12  4776.642723  GRID_45.624999815|-73.70833602500002        0.165825   \n",
       "13  4776.642723       GRID_45.624999815|-73.791669355        0.165825   \n",
       "\n",
       "          Start  \n",
       "0   4768.734968  \n",
       "1   4768.734968  \n",
       "2   4768.734968  \n",
       "3   4768.734968  \n",
       "4   4768.734968  \n",
       "5   4768.734968  \n",
       "6   4768.734968  \n",
       "7   4768.734968  \n",
       "8   4768.734968  \n",
       "9   4768.734968  \n",
       "10  4768.734968  \n",
       "11  4768.734968  \n",
       "12  4768.734968  \n",
       "13  4768.734968  "
      ]
     },
     "execution_count": 51,
     "metadata": {},
     "output_type": "execute_result"
    }
   ],
   "source": [
    "pd.DataFrame(data)"
   ]
  },
  {
   "cell_type": "code",
   "execution_count": null,
   "metadata": {},
   "outputs": [],
   "source": []
  }
 ],
 "metadata": {
  "kernelspec": {
   "display_name": "Python 3",
   "language": "python",
   "name": "python3"
  },
  "language_info": {
   "codemirror_mode": {
    "name": "ipython",
    "version": 3
   },
   "file_extension": ".py",
   "mimetype": "text/x-python",
   "name": "python",
   "nbconvert_exporter": "python",
   "pygments_lexer": "ipython3",
   "version": "3.7.2"
  }
 },
 "nbformat": 4,
 "nbformat_minor": 2
}
