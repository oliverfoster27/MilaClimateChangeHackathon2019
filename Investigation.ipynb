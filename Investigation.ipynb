{
 "cells": [
  {
   "cell_type": "code",
   "execution_count": 1,
   "metadata": {},
   "outputs": [],
   "source": [
    "import numpy as np\n",
    "import pandas as pd\n",
    "from sklearn.model_selection import train_test_split\n",
    "from sklearn.linear_model import LinearRegression\n",
    "import seaborn as sns"
   ]
  },
  {
   "cell_type": "code",
   "execution_count": 2,
   "metadata": {},
   "outputs": [],
   "source": [
    "df = pd.read_csv(r\"C:\\Users\\olive\\Documents\\GitHub\\MilaClimateChangeHackathon2019\\data\\Final_Dataset.csv\", index_col=0)"
   ]
  },
  {
   "cell_type": "code",
   "execution_count": 3,
   "metadata": {},
   "outputs": [],
   "source": [
    "possible_targets = ['Number of Incidents', 'Implied vehicules', 'Serious injury',\n",
    "       'Light injury', 'Total victims', 'Trucks and car', 'Heavy tractor',\n",
    "       'Tool equipment', 'Bus', 'Bicycle', 'Moped', 'Motorcycle',\n",
    "       'Emergency vehicule', 'Snowmobile', 'VHR', 'Other types',\n",
    "       'Non-Precise vehicule', 'Pedestrian death', 'Pedestrian injury',\n",
    "       'Pedestrian victims', 'Motorcycle death', 'Motorcycle injuries',\n",
    "       'Motorcycle victims', 'Bicycle death', 'Bicycle injury',\n",
    "       'Bicycle victims', 'Severity: Inferior damages',\n",
    "       'Severity: Material damages', 'Severity: Serious injury',\n",
    "       'Severity: Light injury', 'Severity: Death']"
   ]
  },
  {
   "cell_type": "code",
   "execution_count": 4,
   "metadata": {},
   "outputs": [],
   "source": [
    "target = 'Number of Incidents'\n",
    "targets = [*possible_targets]\n",
    "targets.remove(target)"
   ]
  },
  {
   "cell_type": "code",
   "execution_count": 5,
   "metadata": {},
   "outputs": [],
   "source": [
    "X_train, X_test, y_train, y_test = train_test_split(df.drop(possible_targets, axis=1), df[target], test_size=0.33)"
   ]
  },
  {
   "cell_type": "code",
   "execution_count": 6,
   "metadata": {},
   "outputs": [],
   "source": [
    "model = LinearRegression()"
   ]
  },
  {
   "cell_type": "code",
   "execution_count": 7,
   "metadata": {},
   "outputs": [
    {
     "data": {
      "text/plain": [
       "LinearRegression(copy_X=True, fit_intercept=True, n_jobs=None,\n",
       "         normalize=False)"
      ]
     },
     "execution_count": 7,
     "metadata": {},
     "output_type": "execute_result"
    }
   ],
   "source": [
    "model.fit(X_train, y_train)"
   ]
  },
  {
   "cell_type": "code",
   "execution_count": 8,
   "metadata": {},
   "outputs": [],
   "source": [
    "y_pred = model.predict(X_test)"
   ]
  },
  {
   "cell_type": "code",
   "execution_count": 9,
   "metadata": {},
   "outputs": [],
   "source": [
    "from sklearn.metrics import mean_absolute_error"
   ]
  },
  {
   "cell_type": "code",
   "execution_count": 10,
   "metadata": {},
   "outputs": [
    {
     "data": {
      "text/plain": [
       "2.179428471465386"
      ]
     },
     "execution_count": 10,
     "metadata": {},
     "output_type": "execute_result"
    }
   ],
   "source": [
    "mean_absolute_error(y_test, y_pred)"
   ]
  },
  {
   "cell_type": "code",
   "execution_count": 11,
   "metadata": {},
   "outputs": [
    {
     "name": "stdout",
     "output_type": "stream",
     "text": [
      "0.0 \t 0.73468017578125\n",
      "0.0 \t 0.230377197265625\n",
      "0.0 \t 2.0208740234375\n",
      "32.0 \t 16.35577392578125\n",
      "6.0 \t 6.087554931640625\n",
      "0.0 \t 0.370513916015625\n",
      "4.0 \t 1.30462646484375\n",
      "0.0 \t 0.81732177734375\n",
      "5.0 \t 13.01171875\n",
      "0.0 \t 1.0281982421875\n",
      "3.0 \t 1.1778564453125\n",
      "5.0 \t 3.157440185546875\n",
      "19.0 \t 17.22369384765625\n",
      "0.0 \t -0.34417724609375\n",
      "1.0 \t 0.155487060546875\n",
      "2.0 \t 1.219696044921875\n",
      "0.0 \t 1.265472412109375\n",
      "7.0 \t 6.5306396484375\n",
      "1.0 \t 2.71478271484375\n",
      "0.0 \t 1.499908447265625\n"
     ]
    }
   ],
   "source": [
    "for i in range(20):\n",
    "    print(y_test.iloc[i], '\\t', y_pred[i])"
   ]
  },
  {
   "cell_type": "code",
   "execution_count": 12,
   "metadata": {},
   "outputs": [],
   "source": [
    "res = dict()\n",
    "for i in range(len(model.coef_)):\n",
    "    res[X_train.columns[i]] = model.coef_[i]"
   ]
  },
  {
   "cell_type": "code",
   "execution_count": 13,
   "metadata": {},
   "outputs": [
    {
     "data": {
      "text/plain": [
       "{'pr_CNRM-CM5_historical_rcp26_(kg m-2 d-1)': 0.003966481390461727,\n",
       " 'pr_CNRM-CM5_historical_rcp45_(kg m-2 d-1)': 0.00026957566473631865,\n",
       " 'pr_CNRM-CM5_historical_rcp85_(kg m-2 d-1)': 0.013313072359916548,\n",
       " 'pr_MIROC-ESM-CHEM_historical_rcp26_(kg m-2 d-1)': -0.0018522798785377283,\n",
       " 'pr_MIROC-ESM-CHEM_historical_rcp45_(kg m-2 d-1)': -0.006727476770114535,\n",
       " 'pr_MIROC-ESM-CHEM_historical_rcp85_(kg m-2 d-1)': 0.01537668799494909,\n",
       " 'pr_MIROC-ESM_historical_rcp26_(kg m-2 d-1)': -0.005060031038096173,\n",
       " 'pr_MIROC-ESM_historical_rcp45_(kg m-2 d-1)': 0.003316452531301949,\n",
       " 'pr_MIROC-ESM_historical_rcp85_(kg m-2 d-1)': -0.003977856686265057,\n",
       " 'pr_MRI-CGCM3_historical_rcp26_(kg m-2 d-1)': -0.00411022588057508,\n",
       " 'pr_MRI-CGCM3_historical_rcp45_(kg m-2 d-1)': 0.002929766417463181,\n",
       " 'pr_MRI-CGCM3_historical_rcp85_(kg m-2 d-1)': 0.004856403834498567,\n",
       " 'GRID_45.458333155|-73.625002695': 189975249717.6305,\n",
       " 'GRID_45.458333155|-73.70833602500002': 189975249707.4113,\n",
       " 'GRID_45.458333155|-73.791669355': 189975249707.33234,\n",
       " 'GRID_45.458333155|-73.875002685': 189975249706.44553,\n",
       " 'GRID_45.458333155|-73.958336015': 189975249704.78732,\n",
       " 'GRID_45.541666485|-73.541669365': 189975249720.52457,\n",
       " 'GRID_45.541666485|-73.625002695': 189975249720.90308,\n",
       " 'GRID_45.541666485|-73.70833602500002': 189975249708.2318,\n",
       " 'GRID_45.541666485|-73.791669355': 189975249705.1364,\n",
       " 'GRID_45.541666485|-73.875002685': 189975249704.70016,\n",
       " 'GRID_45.624999815|-73.541669365': 189975249710.7556,\n",
       " 'GRID_45.624999815|-73.625002695': 189975249709.39005,\n",
       " 'GRID_45.624999815|-73.70833602500002': 1364.2221603393555,\n",
       " 'GRID_45.624999815|-73.791669355': 297.9341735839844,\n",
       " 'WEEKDAY_1': 0.34856308519157847,\n",
       " 'WEEKDAY_2': 0.505132640502278,\n",
       " 'WEEKDAY_3': 0.8194671885378961,\n",
       " 'WEEKDAY_4': 0.9822540562897256,\n",
       " 'WEEKDAY_5': -0.43546547685607834,\n",
       " 'WEEKDAY_6': -1.2677681449658986,\n",
       " 'MONTH_2': -0.22748878934712466,\n",
       " 'MONTH_3': -0.8890524960666955,\n",
       " 'MONTH_4': -1.4194382539524775,\n",
       " 'MONTH_5': -0.9555033503194384,\n",
       " 'MONTH_6': -0.5880699591015581,\n",
       " 'MONTH_7': -1.1313322248959075,\n",
       " 'MONTH_8': -1.3029990533764289,\n",
       " 'MONTH_9': -0.655834806003705,\n",
       " 'MONTH_10': -0.8318052574153598,\n",
       " 'MONTH_11': -0.8193429010110446,\n",
       " 'MONTH_12': -0.4851140379379514}"
      ]
     },
     "execution_count": 13,
     "metadata": {},
     "output_type": "execute_result"
    }
   ],
   "source": [
    "res"
   ]
  },
  {
   "cell_type": "code",
   "execution_count": 14,
   "metadata": {},
   "outputs": [],
   "source": [
    "import matplotlib.pyplot as plt"
   ]
  },
  {
   "cell_type": "code",
   "execution_count": 15,
   "metadata": {},
   "outputs": [],
   "source": [
    "gds = [x for x in X_train.columns if 'GRID_' in x]"
   ]
  },
  {
   "cell_type": "code",
   "execution_count": 39,
   "metadata": {},
   "outputs": [
    {
     "name": "stdout",
     "output_type": "stream",
     "text": [
      "GRID_45.541666485|-73.875002685\n",
      "49.16141392456268 55.884238901585654\n",
      "13.675003301042215\n",
      "\n",
      "\n"
     ]
    },
    {
     "data": {
      "image/png": "[encoded data removed]",
      "text/plain": [
       "<Figure size 432x288 with 1 Axes>"
      ]
     },
     "metadata": {
      "needs_background": "light"
     },
     "output_type": "display_data"
    }
   ],
   "source": [
    "#data = []\n",
    "#for GRID in gds:\n",
    "\n",
    "#GRID = gds[14]\n",
    "GRID = 'GRID_45.541666485|-73.875002685'\n",
    "\n",
    "future_data = pd.DataFrame()\n",
    "future_data = pd.read_csv(r\"C:\\Users\\olive\\Documents\\GitHub\\MilaClimateChangeHackathon2019\\data\\Future_Dataset_WithDates.csv\", index_col=0, parse_dates=True)\n",
    "\n",
    "future_data['Forecast'] = 0.0\n",
    "future_data.loc[future_data[GRID]==1, 'Forecast'] = model.predict(future_data[future_data[GRID]==1].drop(['Forecast'], axis=1))\n",
    "\n",
    "future_data = future_data.resample(rule='A').sum()\n",
    "\n",
    "future_data = future_data.reset_index().sort_values('time')\n",
    "future_data['date_f'] = pd.factorize(future_data['time'])[0] + 1\n",
    "mapping = dict(zip(future_data['date_f'], future_data['time'].dt.date))\n",
    "\n",
    "ax = None\n",
    "ax = sns.regplot('date_f', 'Forecast', data=future_data)\n",
    "labels = pd.Series(ax.get_xticks()).map(mapping).fillna('')\n",
    "ax.set_xticklabels(labels)\n",
    "ax.set_ylabel('Number of Yearly Accidents')\n",
    "ax.set_xlabel('Date')\n",
    "ax.set_title('Forecasted Yearly Accidents in Bigras-Island')\n",
    "\n",
    "start = ax.get_lines()[0].get_ydata()[0]\n",
    "end = ax.get_lines()[0].get_ydata()[-1]\n",
    "\n",
    "data.append({'Grid': GRID, 'Start': start, \n",
    "             'End': end, 'Percent Change': 100*(end-start)/start})\n",
    "print(GRID)\n",
    "print(start, end)\n",
    "print(100*(end-start)/start)\n",
    "print('\\n')\n",
    "    \n",
    "#data"
   ]
  },
  {
   "cell_type": "code",
   "execution_count": 17,
   "metadata": {},
   "outputs": [
    {
     "data": {
      "text/html": [
       "<div>\n",
       "<style scoped>\n",
       "    .dataframe tbody tr th:only-of-type {\n",
       "        vertical-align: middle;\n",
       "    }\n",
       "\n",
       "    .dataframe tbody tr th {\n",
       "        vertical-align: top;\n",
       "    }\n",
       "\n",
       "    .dataframe thead th {\n",
       "        text-align: right;\n",
       "    }\n",
       "</style>\n",
       "<table border=\"1\" class=\"dataframe\">\n",
       "  <thead>\n",
       "    <tr style=\"text-align: right;\">\n",
       "      <th></th>\n",
       "      <th>End</th>\n",
       "      <th>Grid</th>\n",
       "      <th>Percent Change</th>\n",
       "      <th>Start</th>\n",
       "    </tr>\n",
       "  </thead>\n",
       "  <tbody>\n",
       "    <tr>\n",
       "      <th>0</th>\n",
       "      <td>4778.687365</td>\n",
       "      <td>GRID_45.458333155|-73.625002695</td>\n",
       "      <td>0.130663</td>\n",
       "      <td>4772.451549</td>\n",
       "    </tr>\n",
       "    <tr>\n",
       "      <th>1</th>\n",
       "      <td>4778.687365</td>\n",
       "      <td>GRID_45.458333155|-73.70833602500002</td>\n",
       "      <td>0.130663</td>\n",
       "      <td>4772.451549</td>\n",
       "    </tr>\n",
       "    <tr>\n",
       "      <th>2</th>\n",
       "      <td>4778.687365</td>\n",
       "      <td>GRID_45.458333155|-73.791669355</td>\n",
       "      <td>0.130663</td>\n",
       "      <td>4772.451549</td>\n",
       "    </tr>\n",
       "    <tr>\n",
       "      <th>3</th>\n",
       "      <td>4778.687365</td>\n",
       "      <td>GRID_45.458333155|-73.875002685</td>\n",
       "      <td>0.130663</td>\n",
       "      <td>4772.451549</td>\n",
       "    </tr>\n",
       "    <tr>\n",
       "      <th>4</th>\n",
       "      <td>4778.687365</td>\n",
       "      <td>GRID_45.458333155|-73.958336015</td>\n",
       "      <td>0.130663</td>\n",
       "      <td>4772.451549</td>\n",
       "    </tr>\n",
       "    <tr>\n",
       "      <th>5</th>\n",
       "      <td>4778.687365</td>\n",
       "      <td>GRID_45.541666485|-73.541669365</td>\n",
       "      <td>0.130663</td>\n",
       "      <td>4772.451549</td>\n",
       "    </tr>\n",
       "    <tr>\n",
       "      <th>6</th>\n",
       "      <td>4778.687365</td>\n",
       "      <td>GRID_45.541666485|-73.625002695</td>\n",
       "      <td>0.130663</td>\n",
       "      <td>4772.451549</td>\n",
       "    </tr>\n",
       "    <tr>\n",
       "      <th>7</th>\n",
       "      <td>4778.687365</td>\n",
       "      <td>GRID_45.541666485|-73.70833602500002</td>\n",
       "      <td>0.130663</td>\n",
       "      <td>4772.451549</td>\n",
       "    </tr>\n",
       "    <tr>\n",
       "      <th>8</th>\n",
       "      <td>4778.687365</td>\n",
       "      <td>GRID_45.541666485|-73.791669355</td>\n",
       "      <td>0.130663</td>\n",
       "      <td>4772.451549</td>\n",
       "    </tr>\n",
       "    <tr>\n",
       "      <th>9</th>\n",
       "      <td>4778.687365</td>\n",
       "      <td>GRID_45.541666485|-73.875002685</td>\n",
       "      <td>0.130663</td>\n",
       "      <td>4772.451549</td>\n",
       "    </tr>\n",
       "    <tr>\n",
       "      <th>10</th>\n",
       "      <td>4778.687365</td>\n",
       "      <td>GRID_45.624999815|-73.541669365</td>\n",
       "      <td>0.130663</td>\n",
       "      <td>4772.451549</td>\n",
       "    </tr>\n",
       "    <tr>\n",
       "      <th>11</th>\n",
       "      <td>4778.687365</td>\n",
       "      <td>GRID_45.624999815|-73.625002695</td>\n",
       "      <td>0.130663</td>\n",
       "      <td>4772.451549</td>\n",
       "    </tr>\n",
       "    <tr>\n",
       "      <th>12</th>\n",
       "      <td>4778.687365</td>\n",
       "      <td>GRID_45.624999815|-73.70833602500002</td>\n",
       "      <td>0.130663</td>\n",
       "      <td>4772.451549</td>\n",
       "    </tr>\n",
       "    <tr>\n",
       "      <th>13</th>\n",
       "      <td>4778.687365</td>\n",
       "      <td>GRID_45.624999815|-73.791669355</td>\n",
       "      <td>0.130663</td>\n",
       "      <td>4772.451549</td>\n",
       "    </tr>\n",
       "  </tbody>\n",
       "</table>\n",
       "</div>"
      ],
      "text/plain": [
       "            End                                  Grid  Percent Change  \\\n",
       "0   4778.687365       GRID_45.458333155|-73.625002695        0.130663   \n",
       "1   4778.687365  GRID_45.458333155|-73.70833602500002        0.130663   \n",
       "2   4778.687365       GRID_45.458333155|-73.791669355        0.130663   \n",
       "3   4778.687365       GRID_45.458333155|-73.875002685        0.130663   \n",
       "4   4778.687365       GRID_45.458333155|-73.958336015        0.130663   \n",
       "5   4778.687365       GRID_45.541666485|-73.541669365        0.130663   \n",
       "6   4778.687365       GRID_45.541666485|-73.625002695        0.130663   \n",
       "7   4778.687365  GRID_45.541666485|-73.70833602500002        0.130663   \n",
       "8   4778.687365       GRID_45.541666485|-73.791669355        0.130663   \n",
       "9   4778.687365       GRID_45.541666485|-73.875002685        0.130663   \n",
       "10  4778.687365       GRID_45.624999815|-73.541669365        0.130663   \n",
       "11  4778.687365       GRID_45.624999815|-73.625002695        0.130663   \n",
       "12  4778.687365  GRID_45.624999815|-73.70833602500002        0.130663   \n",
       "13  4778.687365       GRID_45.624999815|-73.791669355        0.130663   \n",
       "\n",
       "          Start  \n",
       "0   4772.451549  \n",
       "1   4772.451549  \n",
       "2   4772.451549  \n",
       "3   4772.451549  \n",
       "4   4772.451549  \n",
       "5   4772.451549  \n",
       "6   4772.451549  \n",
       "7   4772.451549  \n",
       "8   4772.451549  \n",
       "9   4772.451549  \n",
       "10  4772.451549  \n",
       "11  4772.451549  \n",
       "12  4772.451549  \n",
       "13  4772.451549  "
      ]
     },
     "execution_count": 17,
     "metadata": {},
     "output_type": "execute_result"
    }
   ],
   "source": [
    "pd.DataFrame(data)"
   ]
  },
  {
   "cell_type": "code",
   "execution_count": null,
   "metadata": {},
   "outputs": [],
   "source": []
  }
 ],
 "metadata": {
  "kernelspec": {
   "display_name": "Python 3",
   "language": "python",
   "name": "python3"
  },
  "language_info": {
   "codemirror_mode": {
    "name": "ipython",
    "version": 3
   },
   "file_extension": ".py",
   "mimetype": "text/x-python",
   "name": "python",
   "nbconvert_exporter": "python",
   "pygments_lexer": "ipython3",
   "version": "3.7.2"
  }
 },
 "nbformat": 4,
 "nbformat_minor": 2
}
