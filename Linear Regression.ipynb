{
 "cells": [
  {
   "cell_type": "code",
   "execution_count": 82,
   "metadata": {},
   "outputs": [],
   "source": [
    "import numpy as np\n",
    "import pandas as pd\n",
    "from sklearn.model_selection import train_test_split\n",
    "from sklearn.linear_model import LinearRegression"
   ]
  },
  {
   "cell_type": "code",
   "execution_count": 83,
   "metadata": {},
   "outputs": [],
   "source": [
    "df = pd.read_csv(r\"C:\\Users\\olive\\Documents\\GitHub\\MilaClimateChangeHackathon2019\\data\\Final_Dataset.csv\", index_col=0)"
   ]
  },
  {
   "cell_type": "code",
   "execution_count": 86,
   "metadata": {},
   "outputs": [],
   "source": [
    "possible_targets = ['Number of Incidents', 'Implied vehicules', 'Serious injury',\n",
    "       'Light injury', 'Total victims', 'Trucks and car', 'Heavy tractor',\n",
    "       'Tool equipment', 'Bus', 'Bicycle', 'Moped', 'Motorcycle',\n",
    "       'Emergency vehicule', 'Snowmobile', 'VHR', 'Other types',\n",
    "       'Non-Precise vehicule', 'Pedestrian death', 'Pedestrian injury',\n",
    "       'Pedestrian victims', 'Motorcycle death', 'Motorcycle injuries',\n",
    "       'Motorcycle victims', 'Bicycle death', 'Bicycle injury',\n",
    "       'Bicycle victims', 'Severity: Inferior damages',\n",
    "       'Severity: Material damages', 'Severity: Serious injury',\n",
    "       'Severity: Light injury', 'Severity: Death']"
   ]
  },
  {
   "cell_type": "code",
   "execution_count": 87,
   "metadata": {},
   "outputs": [],
   "source": [
    "target = 'Number of Incidents'\n",
    "targets = [*possible_targets]\n",
    "targets.remove(target)"
   ]
  },
  {
   "cell_type": "code",
   "execution_count": 88,
   "metadata": {},
   "outputs": [],
   "source": [
    "X_train, X_test, y_train, y_test = train_test_split(df.drop(possible_targets, axis=1), df[target], test_size=0.33)"
   ]
  },
  {
   "cell_type": "code",
   "execution_count": 89,
   "metadata": {},
   "outputs": [],
   "source": [
    "model = LinearRegression()"
   ]
  },
  {
   "cell_type": "code",
   "execution_count": 90,
   "metadata": {},
   "outputs": [
    {
     "data": {
      "text/plain": [
       "LinearRegression(copy_X=True, fit_intercept=True, n_jobs=None,\n",
       "         normalize=False)"
      ]
     },
     "execution_count": 90,
     "metadata": {},
     "output_type": "execute_result"
    }
   ],
   "source": [
    "model.fit(X_train, y_train)"
   ]
  },
  {
   "cell_type": "code",
   "execution_count": 91,
   "metadata": {},
   "outputs": [],
   "source": [
    "y_pred = model.predict(X_test)"
   ]
  },
  {
   "cell_type": "code",
   "execution_count": 92,
   "metadata": {},
   "outputs": [],
   "source": [
    "from sklearn.metrics import mean_absolute_error"
   ]
  },
  {
   "cell_type": "code",
   "execution_count": 93,
   "metadata": {},
   "outputs": [
    {
     "data": {
      "text/plain": [
       "2.2279904386082934"
      ]
     },
     "execution_count": 93,
     "metadata": {},
     "output_type": "execute_result"
    }
   ],
   "source": [
    "mean_absolute_error(y_test, y_pred)"
   ]
  },
  {
   "cell_type": "code",
   "execution_count": 94,
   "metadata": {},
   "outputs": [
    {
     "name": "stdout",
     "output_type": "stream",
     "text": [
      "7.0 \t 15.32550048828125\n",
      "1.0 \t 4.034423828125\n",
      "1.0 \t -0.61407470703125\n",
      "1.0 \t 2.09698486328125\n",
      "1.0 \t 2.18658447265625\n",
      "11.0 \t 15.64984130859375\n",
      "6.0 \t 2.87786865234375\n",
      "2.0 \t -0.68048095703125\n",
      "11.0 \t 14.64471435546875\n",
      "9.0 \t 6.80474853515625\n",
      "6.0 \t 6.3551025390625\n",
      "4.0 \t 3.8258056640625\n",
      "6.0 \t 4.14520263671875\n",
      "1.0 \t 2.49005126953125\n",
      "2.0 \t 4.637451171875\n",
      "2.0 \t 2.82904052734375\n",
      "8.0 \t 13.05718994140625\n",
      "17.0 \t 14.94403076171875\n",
      "3.0 \t 2.50244140625\n",
      "20.0 \t 17.02850341796875\n"
     ]
    }
   ],
   "source": [
    "for i in range(20):\n",
    "    print(y_test.iloc[i], '\\t', y_pred[i])"
   ]
  },
  {
   "cell_type": "code",
   "execution_count": 97,
   "metadata": {},
   "outputs": [],
   "source": [
    "res = dict()\n",
    "for i in range(len(model.coef_)):\n",
    "    res[X_train.columns[i]] = model.coef_[i]"
   ]
  },
  {
   "cell_type": "code",
   "execution_count": 98,
   "metadata": {},
   "outputs": [
    {
     "data": {
      "text/plain": [
       "{'pr_CNRM-CM5_historical_rcp26_(kg m-2 d-1)': 0.0011414355468749137,\n",
       " 'pr_CNRM-CM5_historical_rcp45_(kg m-2 d-1)': -0.00918841523773171,\n",
       " 'pr_CNRM-CM5_historical_rcp85_(kg m-2 d-1)': 0.012984632723356471,\n",
       " 'pr_MIROC-ESM-CHEM_historical_rcp26_(kg m-2 d-1)': -0.0002875949305633936,\n",
       " 'pr_MIROC-ESM-CHEM_historical_rcp45_(kg m-2 d-1)': -0.002945818781015399,\n",
       " 'pr_MIROC-ESM-CHEM_historical_rcp85_(kg m-2 d-1)': 0.016754001439367165,\n",
       " 'pr_MIROC-ESM_historical_rcp26_(kg m-2 d-1)': 7.249692627406748e-05,\n",
       " 'pr_MIROC-ESM_historical_rcp45_(kg m-2 d-1)': 0.0018310340561493036,\n",
       " 'pr_MIROC-ESM_historical_rcp85_(kg m-2 d-1)': -0.0037417972110040045,\n",
       " 'pr_MRI-CGCM3_historical_rcp26_(kg m-2 d-1)': -0.0029570143003397,\n",
       " 'pr_MRI-CGCM3_historical_rcp45_(kg m-2 d-1)': 0.0041218887371773805,\n",
       " 'pr_MRI-CGCM3_historical_rcp85_(kg m-2 d-1)': 0.004969279691402692,\n",
       " 'GRID_45.458333155|-73.625002695': 527792442752.0172,\n",
       " 'GRID_45.458333155|-73.70833602500002': 527792442741.8877,\n",
       " 'GRID_45.458333155|-73.791669355': 527792442741.7752,\n",
       " 'GRID_45.458333155|-73.875002685': 527792442740.8726,\n",
       " 'GRID_45.458333155|-73.958336015': 527792442739.2619,\n",
       " 'GRID_45.541666485|-73.541669365': 527792442754.82745,\n",
       " 'GRID_45.541666485|-73.625002695': 527792442755.46405,\n",
       " 'GRID_45.541666485|-73.70833602500002': 527792442742.67755,\n",
       " 'GRID_45.541666485|-73.791669355': 527792442739.56995,\n",
       " 'GRID_45.541666485|-73.875002685': 527792442739.12683,\n",
       " 'GRID_45.624999815|-73.541669365': 527792442745.2075,\n",
       " 'GRID_45.624999815|-73.625002695': 527792442743.85925,\n",
       " 'GRID_45.624999815|-73.70833602500002': 16385.673030853275,\n",
       " 'GRID_45.624999815|-73.791669355': -105.80865478515625,\n",
       " 'WEEKDAY_1': 0.40518033453839963,\n",
       " 'WEEKDAY_2': 0.483293934817237,\n",
       " 'WEEKDAY_3': 0.9067448627022828,\n",
       " 'WEEKDAY_4': 0.934851542251741,\n",
       " 'WEEKDAY_5': -0.33000220642468164,\n",
       " 'WEEKDAY_6': -1.2299373390189177,\n",
       " 'MONTH_2': -0.24623549398434683,\n",
       " 'MONTH_3': -1.0090058456616628,\n",
       " 'MONTH_4': -1.4312524183887314,\n",
       " 'MONTH_5': -0.849786389926732,\n",
       " 'MONTH_6': -0.5926549869418041,\n",
       " 'MONTH_7': -1.2448449284369398,\n",
       " 'MONTH_8': -1.3597617553390091,\n",
       " 'MONTH_9': -0.6158633370574375,\n",
       " 'MONTH_10': -0.6842840683608524,\n",
       " 'MONTH_11': -0.8454554477588382,\n",
       " 'MONTH_12': -0.5533364302413767}"
      ]
     },
     "execution_count": 98,
     "metadata": {},
     "output_type": "execute_result"
    }
   ],
   "source": [
    "res"
   ]
  }
 ],
 "metadata": {
  "kernelspec": {
   "display_name": "Python 3",
   "language": "python",
   "name": "python3"
  },
  "language_info": {
   "codemirror_mode": {
    "name": "ipython",
    "version": 3
   },
   "file_extension": ".py",
   "mimetype": "text/x-python",
   "name": "python",
   "nbconvert_exporter": "python",
   "pygments_lexer": "ipython3",
   "version": "3.7.2"
  }
 },
 "nbformat": 4,
 "nbformat_minor": 2
}
