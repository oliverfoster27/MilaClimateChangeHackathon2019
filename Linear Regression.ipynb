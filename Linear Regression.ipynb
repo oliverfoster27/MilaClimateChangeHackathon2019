{
 "cells": [
  {
   "cell_type": "code",
   "execution_count": 1,
   "metadata": {},
   "outputs": [],
   "source": [
    "import numpy as np\n",
    "import pandas as pd\n",
    "from sklearn.model_selection import train_test_split\n",
    "from sklearn.linear_model import LinearRegression"
   ]
  },
  {
   "cell_type": "code",
   "execution_count": 2,
   "metadata": {},
   "outputs": [],
   "source": [
    "df = pd.read_csv(r\"C:\\Users\\olive\\Documents\\GitHub\\MilaClimateChangeHackathon2019\\data\\Final_Dataset.csv\", index_col=0)"
   ]
  },
  {
   "cell_type": "code",
   "execution_count": 3,
   "metadata": {},
   "outputs": [],
   "source": [
    "possible_targets = ['Number of Incidents', 'Implied vehicules', 'Serious injury',\n",
    "       'Light injury', 'Total victims', 'Trucks and car', 'Heavy tractor',\n",
    "       'Tool equipment', 'Bus', 'Bicycle', 'Moped', 'Motorcycle',\n",
    "       'Emergency vehicule', 'Snowmobile', 'VHR', 'Other types',\n",
    "       'Non-Precise vehicule', 'Pedestrian death', 'Pedestrian injury',\n",
    "       'Pedestrian victims', 'Motorcycle death', 'Motorcycle injuries',\n",
    "       'Motorcycle victims', 'Bicycle death', 'Bicycle injury',\n",
    "       'Bicycle victims', 'Severity: Inferior damages',\n",
    "       'Severity: Material damages', 'Severity: Serious injury',\n",
    "       'Severity: Light injury', 'Severity: Death']"
   ]
  },
  {
   "cell_type": "code",
   "execution_count": 4,
   "metadata": {},
   "outputs": [],
   "source": [
    "target = 'Number of Incidents'\n",
    "targets = [*possible_targets]\n",
    "targets.remove(target)"
   ]
  },
  {
   "cell_type": "code",
   "execution_count": 5,
   "metadata": {},
   "outputs": [],
   "source": [
    "X_train, X_test, y_train, y_test = train_test_split(df.drop(possible_targets, axis=1), df[target], test_size=0.33)"
   ]
  },
  {
   "cell_type": "code",
   "execution_count": 6,
   "metadata": {},
   "outputs": [],
   "source": [
    "model = LinearRegression()"
   ]
  },
  {
   "cell_type": "code",
   "execution_count": 7,
   "metadata": {},
   "outputs": [
    {
     "data": {
      "text/plain": [
       "LinearRegression(copy_X=True, fit_intercept=True, n_jobs=None,\n",
       "         normalize=False)"
      ]
     },
     "execution_count": 7,
     "metadata": {},
     "output_type": "execute_result"
    }
   ],
   "source": [
    "model.fit(X_train, y_train)"
   ]
  },
  {
   "cell_type": "code",
   "execution_count": 8,
   "metadata": {},
   "outputs": [],
   "source": [
    "y_pred = model.predict(X_test)"
   ]
  },
  {
   "cell_type": "code",
   "execution_count": 9,
   "metadata": {},
   "outputs": [],
   "source": [
    "from sklearn.metrics import mean_absolute_error"
   ]
  },
  {
   "cell_type": "code",
   "execution_count": 10,
   "metadata": {},
   "outputs": [
    {
     "data": {
      "text/plain": [
       "2.1957756168157627"
      ]
     },
     "execution_count": 10,
     "metadata": {},
     "output_type": "execute_result"
    }
   ],
   "source": [
    "mean_absolute_error(y_test, y_pred)"
   ]
  },
  {
   "cell_type": "code",
   "execution_count": 11,
   "metadata": {},
   "outputs": [
    {
     "name": "stdout",
     "output_type": "stream",
     "text": [
      "6.0 \t 6.155708312988281\n",
      "1.0 \t 2.7084274291992188\n",
      "5.0 \t 4.711631774902344\n",
      "5.0 \t 3.3414764404296875\n",
      "3.0 \t 5.2020721435546875\n",
      "22.0 \t 12.445205688476562\n",
      "0.0 \t 1.0708389282226562\n",
      "16.0 \t 12.801956176757812\n",
      "10.0 \t 12.794563293457031\n",
      "1.0 \t 0.42906951904296875\n",
      "9.0 \t 15.785491943359375\n",
      "19.0 \t 13.573478698730469\n",
      "0.0 \t 4.077980041503906\n",
      "6.0 \t 5.0158843994140625\n",
      "6.0 \t 4.13665771484375\n",
      "2.0 \t 2.9534835815429688\n",
      "2.0 \t 2.9218673706054688\n",
      "8.0 \t 11.724990844726562\n",
      "1.0 \t 1.4875030517578125\n",
      "5.0 \t 12.788536071777344\n"
     ]
    }
   ],
   "source": [
    "for i in range(20):\n",
    "    print(y_test.iloc[i], '\\t', y_pred[i])"
   ]
  },
  {
   "cell_type": "code",
   "execution_count": 12,
   "metadata": {},
   "outputs": [],
   "source": [
    "res = dict()\n",
    "for i in range(len(model.coef_)):\n",
    "    res[X_train.columns[i]] = model.coef_[i]"
   ]
  },
  {
   "cell_type": "code",
   "execution_count": 13,
   "metadata": {},
   "outputs": [
    {
     "data": {
      "text/plain": [
       "{'pr_CNRM-CM5_historical_rcp26_(kg m-2 d-1)': 0.0026244611445721657,\n",
       " 'pr_CNRM-CM5_historical_rcp45_(kg m-2 d-1)': -0.005254268382429573,\n",
       " 'pr_CNRM-CM5_historical_rcp85_(kg m-2 d-1)': 0.013748790577014572,\n",
       " 'pr_MIROC-ESM-CHEM_historical_rcp26_(kg m-2 d-1)': -0.003094917499137803,\n",
       " 'pr_MIROC-ESM-CHEM_historical_rcp45_(kg m-2 d-1)': -0.003710239648996498,\n",
       " 'pr_MIROC-ESM-CHEM_historical_rcp85_(kg m-2 d-1)': 0.013823958917715292,\n",
       " 'pr_MIROC-ESM_historical_rcp26_(kg m-2 d-1)': -0.008597964406792375,\n",
       " 'pr_MIROC-ESM_historical_rcp45_(kg m-2 d-1)': 0.0032093774836834546,\n",
       " 'pr_MIROC-ESM_historical_rcp85_(kg m-2 d-1)': -0.005175378401033348,\n",
       " 'pr_MRI-CGCM3_historical_rcp26_(kg m-2 d-1)': -0.0025818240222196033,\n",
       " 'pr_MRI-CGCM3_historical_rcp45_(kg m-2 d-1)': 0.010884372656302342,\n",
       " 'pr_MRI-CGCM3_historical_rcp85_(kg m-2 d-1)': 0.008388937712794609,\n",
       " 'GRID_45.458333155|-73.625002695': 49525131574.86118,\n",
       " 'GRID_45.458333155|-73.70833602500002': 49525131564.72034,\n",
       " 'GRID_45.458333155|-73.791669355': 49525131564.63002,\n",
       " 'GRID_45.458333155|-73.875002685': 49525131563.85773,\n",
       " 'GRID_45.458333155|-73.958336015': 49525131562.151215,\n",
       " 'GRID_45.541666485|-73.541669365': 49525131577.77553,\n",
       " 'GRID_45.541666485|-73.625002695': 49525131578.2853,\n",
       " 'GRID_45.541666485|-73.70833602500002': 49525131565.559685,\n",
       " 'GRID_45.541666485|-73.791669355': 49525131562.490036,\n",
       " 'GRID_45.541666485|-73.875002685': 49525131562.00381,\n",
       " 'GRID_45.624999815|-73.541669365': 49525131568.13309,\n",
       " 'GRID_45.624999815|-73.625002695': 49525131566.7712,\n",
       " 'GRID_45.624999815|-73.70833602500002': 53.00957107543945,\n",
       " 'GRID_45.624999815|-73.791669355': 0.5434684753417969,\n",
       " 'WEEKDAY_1': 0.3169979936945509,\n",
       " 'WEEKDAY_2': 0.41345547512330966,\n",
       " 'WEEKDAY_3': 0.84160592469788,\n",
       " 'WEEKDAY_4': 0.86606788275014,\n",
       " 'WEEKDAY_5': -0.3888838011243891,\n",
       " 'WEEKDAY_6': -1.3007811521555872,\n",
       " 'MONTH_2': -0.3160250623516816,\n",
       " 'MONTH_3': -1.0739554252093535,\n",
       " 'MONTH_4': -1.5197938939204392,\n",
       " 'MONTH_5': -0.8705061662075245,\n",
       " 'MONTH_6': -0.587225682619685,\n",
       " 'MONTH_7': -1.2292362915887622,\n",
       " 'MONTH_8': -1.3777172227924033,\n",
       " 'MONTH_9': -0.7190197119712508,\n",
       " 'MONTH_10': -0.7527536560373705,\n",
       " 'MONTH_11': -0.8345350089656984,\n",
       " 'MONTH_12': -0.5140000860387631}"
      ]
     },
     "execution_count": 13,
     "metadata": {},
     "output_type": "execute_result"
    }
   ],
   "source": [
    "res"
   ]
  },
  {
   "cell_type": "code",
   "execution_count": 14,
   "metadata": {},
   "outputs": [
    {
     "data": {
      "text/plain": [
       "Index(['pr_CNRM-CM5_historical_rcp26_(kg m-2 d-1)',\n",
       "       'pr_CNRM-CM5_historical_rcp45_(kg m-2 d-1)',\n",
       "       'pr_CNRM-CM5_historical_rcp85_(kg m-2 d-1)',\n",
       "       'pr_MIROC-ESM-CHEM_historical_rcp26_(kg m-2 d-1)',\n",
       "       'pr_MIROC-ESM-CHEM_historical_rcp45_(kg m-2 d-1)',\n",
       "       'pr_MIROC-ESM-CHEM_historical_rcp85_(kg m-2 d-1)',\n",
       "       'pr_MIROC-ESM_historical_rcp26_(kg m-2 d-1)',\n",
       "       'pr_MIROC-ESM_historical_rcp45_(kg m-2 d-1)',\n",
       "       'pr_MIROC-ESM_historical_rcp85_(kg m-2 d-1)',\n",
       "       'pr_MRI-CGCM3_historical_rcp26_(kg m-2 d-1)',\n",
       "       'pr_MRI-CGCM3_historical_rcp45_(kg m-2 d-1)',\n",
       "       'pr_MRI-CGCM3_historical_rcp85_(kg m-2 d-1)',\n",
       "       'GRID_45.458333155|-73.625002695',\n",
       "       'GRID_45.458333155|-73.70833602500002',\n",
       "       'GRID_45.458333155|-73.791669355', 'GRID_45.458333155|-73.875002685',\n",
       "       'GRID_45.458333155|-73.958336015', 'GRID_45.541666485|-73.541669365',\n",
       "       'GRID_45.541666485|-73.625002695',\n",
       "       'GRID_45.541666485|-73.70833602500002',\n",
       "       'GRID_45.541666485|-73.791669355', 'GRID_45.541666485|-73.875002685',\n",
       "       'GRID_45.624999815|-73.541669365', 'GRID_45.624999815|-73.625002695',\n",
       "       'GRID_45.624999815|-73.70833602500002',\n",
       "       'GRID_45.624999815|-73.791669355', 'WEEKDAY_1', 'WEEKDAY_2',\n",
       "       'WEEKDAY_3', 'WEEKDAY_4', 'WEEKDAY_5', 'WEEKDAY_6', 'MONTH_2',\n",
       "       'MONTH_3', 'MONTH_4', 'MONTH_5', 'MONTH_6', 'MONTH_7', 'MONTH_8',\n",
       "       'MONTH_9', 'MONTH_10', 'MONTH_11', 'MONTH_12'],\n",
       "      dtype='object')"
      ]
     },
     "execution_count": 14,
     "metadata": {},
     "output_type": "execute_result"
    }
   ],
   "source": [
    "X_train.columns"
   ]
  },
  {
   "cell_type": "code",
   "execution_count": 15,
   "metadata": {},
   "outputs": [],
   "source": [
    "future_data = pd.read_csv(r\"C:\\Users\\olive\\Documents\\GitHub\\MilaClimateChangeHackathon2019\\data\\Future_Dataset.csv\", index_col=0)"
   ]
  },
  {
   "cell_type": "code",
   "execution_count": 22,
   "metadata": {
    "scrolled": true
   },
   "outputs": [
    {
     "data": {
      "text/plain": [
       "Index(['pr_CNRM-CM5_historical_rcp26_(kg m-2 d-1)',\n",
       "       'pr_CNRM-CM5_historical_rcp45_(kg m-2 d-1)',\n",
       "       'pr_CNRM-CM5_historical_rcp85_(kg m-2 d-1)',\n",
       "       'pr_MIROC-ESM-CHEM_historical_rcp26_(kg m-2 d-1)',\n",
       "       'pr_MIROC-ESM-CHEM_historical_rcp45_(kg m-2 d-1)',\n",
       "       'pr_MIROC-ESM-CHEM_historical_rcp85_(kg m-2 d-1)',\n",
       "       'pr_MIROC-ESM_historical_rcp26_(kg m-2 d-1)',\n",
       "       'pr_MIROC-ESM_historical_rcp45_(kg m-2 d-1)',\n",
       "       'pr_MIROC-ESM_historical_rcp85_(kg m-2 d-1)',\n",
       "       'pr_MRI-CGCM3_historical_rcp26_(kg m-2 d-1)',\n",
       "       'pr_MRI-CGCM3_historical_rcp45_(kg m-2 d-1)',\n",
       "       'pr_MRI-CGCM3_historical_rcp85_(kg m-2 d-1)',\n",
       "       'GRID_45.458333155|-73.625002695',\n",
       "       'GRID_45.458333155|-73.70833602500002',\n",
       "       'GRID_45.458333155|-73.791669355', 'GRID_45.458333155|-73.875002685',\n",
       "       'GRID_45.458333155|-73.958336015', 'GRID_45.541666485|-73.541669365',\n",
       "       'GRID_45.541666485|-73.625002695',\n",
       "       'GRID_45.541666485|-73.70833602500002',\n",
       "       'GRID_45.541666485|-73.791669355', 'GRID_45.541666485|-73.875002685',\n",
       "       'GRID_45.624999815|-73.541669365', 'GRID_45.624999815|-73.625002695',\n",
       "       'GRID_45.624999815|-73.70833602500002',\n",
       "       'GRID_45.624999815|-73.791669355', 'WEEKDAY_1', 'WEEKDAY_2',\n",
       "       'WEEKDAY_3', 'WEEKDAY_4', 'WEEKDAY_5', 'WEEKDAY_6', 'MONTH_2',\n",
       "       'MONTH_3', 'MONTH_4', 'MONTH_5', 'MONTH_6', 'MONTH_7', 'MONTH_8',\n",
       "       'MONTH_9', 'MONTH_10', 'MONTH_11', 'MONTH_12'],\n",
       "      dtype='object')"
      ]
     },
     "execution_count": 22,
     "metadata": {},
     "output_type": "execute_result"
    }
   ],
   "source": [
    "future_data.columns"
   ]
  },
  {
   "cell_type": "code",
   "execution_count": 28,
   "metadata": {},
   "outputs": [],
   "source": [
    "import matplotlib.pyplot as plt"
   ]
  },
  {
   "cell_type": "code",
   "execution_count": 32,
   "metadata": {},
   "outputs": [
    {
     "data": {
      "text/plain": [
       "[<matplotlib.lines.Line2D at 0x2a00a1ba4a8>]"
      ]
     },
     "execution_count": 32,
     "metadata": {},
     "output_type": "execute_result"
    },
    {
     "data": {
      "image/png": "[encoded data removed]",
      "text/plain": [
       "<Figure size 432x288 with 1 Axes>"
      ]
     },
     "metadata": {
      "needs_background": "light"
     },
     "output_type": "display_data"
    }
   ],
   "source": [
    "plt.plot(model.predict(future_data[future_data['GRID_45.541666485|-73.791669355']==1]))"
   ]
  },
  {
   "cell_type": "code",
   "execution_count": null,
   "metadata": {},
   "outputs": [],
   "source": []
  }
 ],
 "metadata": {
  "kernelspec": {
   "display_name": "Python 3",
   "language": "python",
   "name": "python3"
  },
  "language_info": {
   "codemirror_mode": {
    "name": "ipython",
    "version": 3
   },
   "file_extension": ".py",
   "mimetype": "text/x-python",
   "name": "python",
   "nbconvert_exporter": "python",
   "pygments_lexer": "ipython3",
   "version": "3.7.2"
  }
 },
 "nbformat": 4,
 "nbformat_minor": 2
}
