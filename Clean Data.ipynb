{
 "cells": [
  {
   "cell_type": "code",
   "execution_count": 1,
   "metadata": {},
   "outputs": [],
   "source": [
    "import pandas as pd\n",
    "import os\n",
    "import numpy as np"
   ]
  },
  {
   "cell_type": "markdown",
   "metadata": {},
   "source": [
    "# Parse through precipitation data & extract only dates in labeled range"
   ]
  },
  {
   "cell_type": "code",
   "execution_count": 2,
   "metadata": {
    "scrolled": false
   },
   "outputs": [
    {
     "name": "stderr",
     "output_type": "stream",
     "text": [
      "C:\\Users\\olive\\AppData\\Local\\Continuum\\anaconda3\\envs\\deeplearning\\lib\\site-packages\\ipykernel_launcher.py:9: FutureWarning: Sorting because non-concatenation axis is not aligned. A future version\n",
      "of pandas will change to not sort by default.\n",
      "\n",
      "To accept the future behavior, pass 'sort=False'.\n",
      "\n",
      "To retain the current behavior and silence the warning, pass 'sort=True'.\n",
      "\n",
      "  if __name__ == '__main__':\n"
     ]
    }
   ],
   "source": [
    "directory = r\"C:\\Users\\olive\\Documents\\GitHub\\MilaClimateChangeHackathon2019\\data\"\n",
    "df = pd.DataFrame()\n",
    "for dirpath, dirnames, filenames in os.walk(directory):\n",
    "    for file in filenames:\n",
    "        if '_standard.csv' in file:\n",
    "            abspath = dirpath + '\\\\' + file\n",
    "            dfT = pd.read_csv(abspath, index_col='time', parse_dates=True)\n",
    "            dfT = dfT.loc['2012':'2017']\n",
    "            df = pd.concat([df, dfT])"
   ]
  },
  {
   "cell_type": "markdown",
   "metadata": {},
   "source": [
    "## One-Hot Encode Grid for Features"
   ]
  },
  {
   "cell_type": "code",
   "execution_count": 3,
   "metadata": {},
   "outputs": [],
   "source": [
    "# Add column Grid to keep track of what grid the data is from\n",
    "df['Grid'] = df['lat'].astype('str') + '|' + df['lon'].astype('str')\n",
    "# One-Hot Encode Grid to use as feature later\n",
    "df = pd.concat([df, pd.get_dummies(df['Grid'], prefix='GRID', drop_first=True)], axis=1)"
   ]
  },
  {
   "cell_type": "markdown",
   "metadata": {},
   "source": [
    "## Define Method to Snap Lat/Long to Grid"
   ]
  },
  {
   "cell_type": "code",
   "execution_count": 4,
   "metadata": {},
   "outputs": [],
   "source": [
    "def closest_grid(point, data):\n",
    "    min_dist = 1_000_000\n",
    "    for grid in data:\n",
    "        dist = np.sum((point - grid)**2)\n",
    "        if dist < min_dist:\n",
    "            min_dist = dist\n",
    "            best_grid = grid\n",
    "    return best_grid[0], best_grid[1]"
   ]
  },
  {
   "cell_type": "code",
   "execution_count": 5,
   "metadata": {},
   "outputs": [
    {
     "data": {
      "text/plain": [
       "(45.541666485, -73.875002685)"
      ]
     },
     "execution_count": 5,
     "metadata": {},
     "output_type": "execute_result"
    }
   ],
   "source": [
    "grid_data = []\n",
    "for grid in np.unique(df['Grid']):\n",
    "    lat, lon = grid.split('|')\n",
    "    lat, lon = float(lat), float(lon)\n",
    "    grid_data.append(np.array([lat, lon]))\n",
    "point = np.array([45.5, -73.9])\n",
    "closest_grid(point, grid_data)"
   ]
  },
  {
   "cell_type": "markdown",
   "metadata": {},
   "source": [
    "## One-Hot Encode Weekday & Month for Features"
   ]
  },
  {
   "cell_type": "code",
   "execution_count": 6,
   "metadata": {
    "scrolled": true
   },
   "outputs": [],
   "source": [
    "df['Weekday'] = df.index.weekday\n",
    "df = pd.concat([df.drop(['Weekday'], axis=1), pd.get_dummies(df['Weekday'], prefix='WEEKDAY', drop_first=True)], axis=1)\n",
    "\n",
    "df['Month'] = df.index.month\n",
    "df = pd.concat([df.drop(['Month'], axis=1), pd.get_dummies(df['Month'], prefix='MONTH', drop_first=True)], axis=1)"
   ]
  },
  {
   "cell_type": "markdown",
   "metadata": {},
   "source": [
    "## Filter unused grids"
   ]
  },
  {
   "cell_type": "code",
   "execution_count": 7,
   "metadata": {},
   "outputs": [],
   "source": [
    "acc_df = pd.read_csv(r\"C:\\Users\\olive\\Documents\\GitHub\\MilaClimateChangeHackathon2019\\data\\Accident_ResponseData_WithGrids.csv\")\n",
    "used_grids = np.unique(acc_df['Grid'])\n",
    "used_grids = [x.replace('GRID_', '') for x in used_grids]"
   ]
  },
  {
   "cell_type": "code",
   "execution_count": 8,
   "metadata": {},
   "outputs": [],
   "source": [
    "df = df.loc[df['Grid'].isin(used_grids)]"
   ]
  },
  {
   "cell_type": "markdown",
   "metadata": {},
   "source": [
    "## Set Index on Time/Lat/Lon"
   ]
  },
  {
   "cell_type": "code",
   "execution_count": 9,
   "metadata": {
    "scrolled": true
   },
   "outputs": [],
   "source": [
    "df = df.reset_index()\n",
    "df = df.sort_values(['time', 'Grid']).set_index(['time','Grid'])"
   ]
  },
  {
   "cell_type": "markdown",
   "metadata": {},
   "source": [
    "## Dump to CSV"
   ]
  },
  {
   "cell_type": "code",
   "execution_count": 10,
   "metadata": {},
   "outputs": [],
   "source": [
    "df.to_csv(r\"C:\\Users\\olive\\Documents\\GitHub\\MilaClimateChangeHackathon2019\\data\\prepared_precipitation_data.csv\")"
   ]
  },
  {
   "cell_type": "code",
   "execution_count": null,
   "metadata": {},
   "outputs": [],
   "source": []
  }
 ],
 "metadata": {
  "kernelspec": {
   "display_name": "Python 3",
   "language": "python",
   "name": "python3"
  },
  "language_info": {
   "codemirror_mode": {
    "name": "ipython",
    "version": 3
   },
   "file_extension": ".py",
   "mimetype": "text/x-python",
   "name": "python",
   "nbconvert_exporter": "python",
   "pygments_lexer": "ipython3",
   "version": "3.7.2"
  }
 },
 "nbformat": 4,
 "nbformat_minor": 2
}
